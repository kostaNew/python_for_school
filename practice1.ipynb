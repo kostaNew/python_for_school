{
 "cells": [
  {
   "cell_type": "markdown",
   "metadata": {},
   "source": [
    "### Задача 1. Високосный год\n",
    "Написать функцию is_year_leap, принимающую один аргумент — год, и возвращающую True, если год високосный, и False иначе."
   ]
  },
  {
   "cell_type": "markdown",
   "metadata": {
    "collapsed": true
   },
   "source": [
    "### Задача 2. Банковский вклад\n",
    "\n",
    "Пользователь делает вклад в размере a рублей сроком на years лет под 10% годовых (каждый год размер его вклада увеличивается на 10%. Эти деньги прибавляются к сумме вклада, и на них в следующем году тоже будут проценты).\n",
    "\n",
    "Написать функцию bank, принимающая аргументы a и years, и возвращающую сумму, которая будет на счету пользователя"
   ]
  },
  {
   "cell_type": "markdown",
   "metadata": {},
   "source": [
    "### Задача 3. Инверсия строки\n",
    "\n",
    "Написать функцию, принимающую строку и возвращающую перевернутую строку."
   ]
  },
  {
   "cell_type": "markdown",
   "metadata": {},
   "source": [
    "### Задача 4. Круг\n",
    "\n",
    "Функция circle(xy, o=(0,0,1)) проверяет попадает ли точка в круг с заданным радиусом. Первый параметр - кортеж с кординатами точки. Второй параметр - кортеж из кординат и радиуса круга. Второй параметр должен быть необязательным."
   ]
  },
  {
   "cell_type": "markdown",
   "metadata": {},
   "source": [
    "### Задача 5. График функции\n",
    "\n",
    "Постройте график функции sin(sin(sin(sin(x)))"
   ]
  },
  {
   "cell_type": "markdown",
   "metadata": {},
   "source": [
    "### Задача 6. График с параметром\n",
    "\n",
    "Реализуйте функцию, принимающую параметр a и отображающие следующие графики:\n",
    "\n",
    "a^2 + 13|x| + 5*sqrt(4x^2 + 13) = 3a + 3|4x - 3a|"
   ]
  },
  {
   "cell_type": "markdown",
   "metadata": {},
   "source": [
    "# Дополнительные задачи"
   ]
  },
  {
   "cell_type": "code",
   "execution_count": null,
   "metadata": {
    "collapsed": true
   },
   "outputs": [],
   "source": []
  }
 ],
 "metadata": {
  "kernelspec": {
   "display_name": "Python 2",
   "language": "python",
   "name": "python2"
  },
  "language_info": {
   "codemirror_mode": {
    "name": "ipython",
    "version": 2
   },
   "file_extension": ".py",
   "mimetype": "text/x-python",
   "name": "python",
   "nbconvert_exporter": "python",
   "pygments_lexer": "ipython2",
   "version": "2.7.12"
  }
 },
 "nbformat": 4,
 "nbformat_minor": 2
}
